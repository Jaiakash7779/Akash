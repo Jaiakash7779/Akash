{
 "cells": [
  {
   "cell_type": "code",
   "execution_count": 2,
   "id": "0cd85fb3-e4cf-4272-a495-77a8b7964fea",
   "metadata": {},
   "outputs": [
    {
     "name": "stdin",
     "output_type": "stream",
     "text": [
      "enter a number 1234567893\n"
     ]
    },
    {
     "name": "stdout",
     "output_type": "stream",
     "text": [
      "product:  1088640\n"
     ]
    }
   ],
   "source": [
    "n = int(input(\"enter a number\"))\n",
    "prod =1\n",
    "while(n>0):\n",
    "    digit=n%10\n",
    "    prod = prod*digit\n",
    "    n = n//10\n",
    "print(\"product: \",prod)n=\n",
    "    "
   ]
  },
  {
   "cell_type": "code",
   "execution_count": 4,
   "id": "c9593ba4-2d1b-49bd-bcdf-442b06fc6d2e",
   "metadata": {},
   "outputs": [
    {
     "name": "stdin",
     "output_type": "stream",
     "text": [
      "enter a number:  1234\n"
     ]
    },
    {
     "name": "stdout",
     "output_type": "stream",
     "text": [
      "24\n"
     ]
    }
   ],
   "source": [
    "num=input(\"enter a number: \")\n",
    "prod = 1\n",
    "for i in num:\n",
    "    prod = prod*int(i)\n",
    "print(prod)  "
   ]
  },
  {
   "cell_type": "code",
   "execution_count": 7,
   "id": "e66612c5-71e7-4d75-8a63-05f3bcaf2d04",
   "metadata": {},
   "outputs": [
    {
     "name": "stdout",
     "output_type": "stream",
     "text": [
      "sum:  625\n"
     ]
    }
   ],
   "source": [
    "s =0\n",
    "for i in range(1,50,2):\n",
    "    s =s+i\n",
    "print(\"sum: \",s)\n",
    "    \n",
    "    "
   ]
  },
  {
   "cell_type": "code",
   "execution_count": 18,
   "id": "7fa1b74d-8888-4747-840d-d2330a79b0ed",
   "metadata": {},
   "outputs": [
    {
     "name": "stdout",
     "output_type": "stream",
     "text": [
      "sum: 600\n"
     ]
    }
   ],
   "source": [
    "s= 0\n",
    "for i in range(1,50,):\n",
    "    if i%2==0:\n",
    "        s+=i\n",
    "print(\"sum:\",s)"
   ]
  },
  {
   "cell_type": "code",
   "execution_count": 15,
   "id": "6c9c4b54-5c28-47cf-bf05-4f790938e4e7",
   "metadata": {},
   "outputs": [
    {
     "name": "stdin",
     "output_type": "stream",
     "text": [
      "enter the number 5\n"
     ]
    },
    {
     "name": "stdout",
     "output_type": "stream",
     "text": [
      "sum 10\n"
     ]
    }
   ],
   "source": [
    "n#find the sum of n natural numbers\n",
    "n=int(input(\"enter the number\"))\n",
    "s=0\n",
    "for i in range(0,n):\n",
    "     s=s+i\n",
    "print(\"sum\",s)\n",
    "      "
   ]
  },
  {
   "cell_type": "code",
   "execution_count": 23,
   "id": "560c246c-0115-420e-be78-5c91639786ae",
   "metadata": {},
   "outputs": [
    {
     "name": "stdin",
     "output_type": "stream",
     "text": [
      "enter the number 6381677185\n"
     ]
    },
    {
     "name": "stdout",
     "output_type": "stream",
     "text": [
      "5817761836\n"
     ]
    }
   ],
   "source": [
    "#program to reverse a number using while loop\n",
    "n=int(input(\"enter the number\"))\n",
    "rev=0\n",
    "while(n>0):\n",
    "    r=n%10\n",
    "    rev=rev*10+r\n",
    "    n=n//10\n",
    "print(rev)"
   ]
  },
  {
   "cell_type": "code",
   "execution_count": 25,
   "id": "c4492813-b0be-48e2-804d-3f441ae514aa",
   "metadata": {},
   "outputs": [
    {
     "name": "stdin",
     "output_type": "stream",
     "text": [
      "enter the number 90259\n"
     ]
    }
   ],
   "source": [
    "#write a python program to find the factorial of given number\n",
    "n=int(input(\"enter the number\"))\n"
   ]
  },
  {
   "cell_type": "code",
   "execution_count": 26,
   "id": "0e2e1b1a-c6fe-41f4-a0ba-7a140d8f63f3",
   "metadata": {},
   "outputs": [
    {
     "name": "stdin",
     "output_type": "stream",
     "text": [
      "enter a number: 5\n"
     ]
    },
    {
     "name": "stdout",
     "output_type": "stream",
     "text": [
      "120\n"
     ]
    }
   ],
   "source": [
    "num=int(input(\"enter a number:\"))\n",
    "factorial=1\n",
    "\n",
    "for i in range(1,num+1):\n",
    "    factorial*=i\n",
    "    \n",
    "print(factorial)\n",
    "\n",
    "    "
   ]
  },
  {
   "cell_type": "code",
   "execution_count": 32,
   "id": "f79916f1-2d6e-4a98-a7d0-7dc67a5aab8c",
   "metadata": {},
   "outputs": [
    {
     "name": "stdin",
     "output_type": "stream",
     "text": [
      "enter a number: 10\n"
     ]
    },
    {
     "name": "stdout",
     "output_type": "stream",
     "text": [
      "1\n",
      "2\n",
      "3\n",
      "4\n",
      "5\n",
      "6\n",
      "7\n",
      "8\n",
      "9\n",
      "10\n"
     ]
    }
   ],
   "source": [
    "#write a python program to compute list of factors of a number\n",
    "num=int(input(\"enter a number:\"))\n",
    "for i in range(1,n+1):\n",
    "    if n%1 == 0:\n",
    "        print(i)"
   ]
  },
  {
   "cell_type": "code",
   "execution_count": 43,
   "id": "4795393d-cb40-4428-a78d-03cdb36a069d",
   "metadata": {},
   "outputs": [
    {
     "name": "stdin",
     "output_type": "stream",
     "text": [
      "enter a number: 12345\n"
     ]
    },
    {
     "name": "stdout",
     "output_type": "stream",
     "text": [
      "15\n"
     ]
    }
   ],
   "source": [
    "def sum_of_digits(n):\n",
    "    s = 0\n",
    "    while(n>0):\n",
    "        digit = n%10\n",
    "        s = s+digit\n",
    "        n = n//10\n",
    "    return s\n",
    "n = int(input(\"enter a number:\"))\n",
    "print(sum_of_digits(n))\n"
   ]
  },
  {
   "cell_type": "code",
   "execution_count": 45,
   "id": "9db10d1d-4b58-4c5a-b2a0-3d4e5f62bf50",
   "metadata": {},
   "outputs": [
    {
     "name": "stdin",
     "output_type": "stream",
     "text": [
      "enter a number: 8\n"
     ]
    },
    {
     "name": "stdout",
     "output_type": "stream",
     "text": [
      "[1, 2, 6, 24, 120, 720, 5040, 40320]\n"
     ]
    }
   ],
   "source": [
    "n=int(input(\"enter a number:\"))\n",
    "list=[]\n",
    "def loganathan(n):\n",
    "    fact=1\n",
    "    for i in range(1,n+1):\n",
    "        fact*=i\n",
    "        list.append(fact)\n",
    "    return list\n",
    "print(loganathan(n))"
   ]
  },
  {
   "cell_type": "code",
   "execution_count": 53,
   "id": "393442fd-ae7b-4599-960e-ae925293970a",
   "metadata": {},
   "outputs": [
    {
     "name": "stdin",
     "output_type": "stream",
     "text": [
      "enter a number: 10\n"
     ]
    },
    {
     "name": "stdout",
     "output_type": "stream",
     "text": [
      "[1, 2, 3, 4, 5, 6, 7, 8, 9, 10]\n"
     ]
    }
   ],
   "source": [
    "def factors(n):\n",
    "    factorlist = []\n",
    "    for i in range(1,n+1):\n",
    "      if n%1 == 0:\n",
    "          factorlist.append(i)\n",
    "    return(factorlist)\n",
    "n = int(input(\"enter a number:\"))\n",
    "print(factors(n))\n",
    "        \n",
    "    "
   ]
  },
  {
   "cell_type": "code",
   "execution_count": 73,
   "id": "c140e0cd-e030-4fe3-a710-ba100be54470",
   "metadata": {},
   "outputs": [
    {
     "name": "stdin",
     "output_type": "stream",
     "text": [
      "enter a number: 2\n"
     ]
    },
    {
     "name": "stdout",
     "output_type": "stream",
     "text": [
      "True\n"
     ]
    }
   ],
   "source": [
    "def prime(n):\n",
    "    return(factors(n)==[1,n])\n",
    "n=int(input(\"enter a number:\"))\n",
    "print(prime(n))"
   ]
  },
  {
   "cell_type": "code",
   "execution_count": 82,
   "id": "de906e90-fe56-440c-8588-e0bd2efb4bda",
   "metadata": {},
   "outputs": [
    {
     "name": "stdout",
     "output_type": "stream",
     "text": [
      "[2]\n"
     ]
    }
   ],
   "source": [
    "#print the list of prime numbers upto 100\n",
    "primelist=[]\n",
    "for i in range(1,101):\n",
    "  if (prime(i)):\n",
    "      primelist.append(i)\n",
    "        \n",
    "print(primelist)"
   ]
  }
 ],
 "metadata": {
  "kernelspec": {
   "display_name": "Python 3 (ipykernel)",
   "language": "python",
   "name": "python3"
  },
  "language_info": {
   "codemirror_mode": {
    "name": "ipython",
    "version": 3
   },
   "file_extension": ".py",
   "mimetype": "text/x-python",
   "name": "python",
   "nbconvert_exporter": "python",
   "pygments_lexer": "ipython3",
   "version": "3.12.7"
  }
 },
 "nbformat": 4,
 "nbformat_minor": 5
}
